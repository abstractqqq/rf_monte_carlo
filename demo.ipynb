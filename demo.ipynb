{
 "cells": [
  {
   "cell_type": "code",
   "execution_count": 1,
   "metadata": {},
   "outputs": [],
   "source": [
    "import numpy as np\n",
    "rng = np.random.default_rng()\n",
    "import polars as pl"
   ]
  },
  {
   "attachments": {},
   "cell_type": "markdown",
   "metadata": {},
   "source": [
    "# The Problem:\n",
    "\n",
    "Given a random forest model, we want to find a good choice for the n_estimator parameter.\n",
    "\n",
    "We are going to subsample on the feature space for each decision tree in the forest. \n",
    "\n",
    "Let's say we have 100 features in total. And we are subsampling 60 features for each decision tree. Ignore depth for now. How many estimators do we need so that we have 99% confidence that each feature is selected at least 3 times? (by different trees)"
   ]
  },
  {
   "cell_type": "code",
   "execution_count": 2,
   "metadata": {},
   "outputs": [],
   "source": [
    "def generate_feature_counts(n_estimators:int, n_features:int) -> np.ndarray:\n",
    "    pool = []\n",
    "\n",
    "    for _ in range(n_estimators):\n",
    "        feat = np.arange(100) \n",
    "        rng.shuffle(feat)\n",
    "        choice = feat < n_features\n",
    "        pool.append(choice)\n",
    "\n",
    "    return np.array(pool).sum(axis=0)"
   ]
  },
  {
   "cell_type": "code",
   "execution_count": 7,
   "metadata": {},
   "outputs": [],
   "source": [
    "# Monte Carlo\n",
    "def money_carlo(n_trials:int, n_estimators:int, n_features:int, n_times:int) -> float:\n",
    "    count = 0\n",
    "    for _ in range(n_trials):\n",
    "        trial = generate_feature_counts(n_estimators, n_features)\n",
    "        if (trial >= n_times).sum() == len(trial):\n",
    "            count += 1\n",
    "\n",
    "    return count / n_trials"
   ]
  },
  {
   "cell_type": "code",
   "execution_count": 8,
   "metadata": {},
   "outputs": [
    {
     "name": "stdout",
     "output_type": "stream",
     "text": [
      "We need 17 estimators to have 99% confidence that all features are considered at least 3 times.\n"
     ]
    }
   ],
   "source": [
    "prob = 0.\n",
    "n_estimators = 0\n",
    "n_times = 3\n",
    "n_trials = 500\n",
    "n_features = 60\n",
    "\n",
    "while prob < 0.99:\n",
    "    n_estimators += 1\n",
    "    prob = money_carlo(n_trials=n_trials, n_estimators=n_estimators, n_features=n_features, n_times=n_times)\n",
    "\n",
    "print(f\"We need {n_estimators} estimators to have 99% confidence that all features are considered at least {n_times} times.\")"
   ]
  },
  {
   "cell_type": "code",
   "execution_count": null,
   "metadata": {},
   "outputs": [],
   "source": [
    "trial = generate_feature_counts(n_estimators=17, n_features=60)"
   ]
  },
  {
   "cell_type": "code",
   "execution_count": 10,
   "metadata": {},
   "outputs": [
    {
     "data": {
      "text/plain": [
       "array([10,  7,  8, ...,  9, 10, 10])"
      ]
     },
     "execution_count": 10,
     "metadata": {},
     "output_type": "execute_result"
    }
   ],
   "source": [
    "n_trials = 1000\n",
    "\n",
    "sample = []\n",
    "for _ in range(n_trials):\n",
    "    trial = generate_feature_counts(17, 60)\n",
    "    sample.append(trial)\n",
    "\n",
    "all_samples = np.array(sample).ravel()\n",
    "all_samples\n"
   ]
  },
  {
   "cell_type": "code",
   "execution_count": 11,
   "metadata": {},
   "outputs": [],
   "source": [
    "test_result = pl.from_records(all_samples, schema=[\"trial_result\"]).groupby(\"trial_result\").agg((\n",
    "    pl.count(),\n",
    ")).sort(by=\"trial_result\").with_columns(\n",
    "    (pl.col(\"count\") / n_trials).alias(\"average_count\")\n",
    ")"
   ]
  },
  {
   "cell_type": "code",
   "execution_count": 12,
   "metadata": {},
   "outputs": [
    {
     "data": {
      "text/html": [
       "<div><style>\n",
       ".dataframe > thead > tr > th,\n",
       ".dataframe > tbody > tr > td {\n",
       "  text-align: right;\n",
       "}\n",
       "</style>\n",
       "<small>shape: (17, 3)</small><table border=\"1\" class=\"dataframe\"><thead><tr><th>trial_result</th><th>count</th><th>average_count</th></tr><tr><td>i32</td><td>u32</td><td>f64</td></tr></thead><tbody><tr><td>1</td><td>1</td><td>0.001</td></tr><tr><td>2</td><td>9</td><td>0.009</td></tr><tr><td>3</td><td>40</td><td>0.04</td></tr><tr><td>4</td><td>199</td><td>0.199</td></tr><tr><td>5</td><td>774</td><td>0.774</td></tr><tr><td>6</td><td>2433</td><td>2.433</td></tr><tr><td>7</td><td>5638</td><td>5.638</td></tr><tr><td>8</td><td>10780</td><td>10.78</td></tr><tr><td>9</td><td>15975</td><td>15.975</td></tr><tr><td>10</td><td>19436</td><td>19.436</td></tr><tr><td>11</td><td>18286</td><td>18.286</td></tr><tr><td>12</td><td>13912</td><td>13.912</td></tr><tr><td>13</td><td>7951</td><td>7.951</td></tr><tr><td>14</td><td>3410</td><td>3.41</td></tr><tr><td>15</td><td>951</td><td>0.951</td></tr><tr><td>16</td><td>187</td><td>0.187</td></tr><tr><td>17</td><td>18</td><td>0.018</td></tr></tbody></table></div>"
      ],
      "text/plain": [
       "shape: (17, 3)\n",
       "┌──────────────┬───────┬───────────────┐\n",
       "│ trial_result ┆ count ┆ average_count │\n",
       "│ ---          ┆ ---   ┆ ---           │\n",
       "│ i32          ┆ u32   ┆ f64           │\n",
       "╞══════════════╪═══════╪═══════════════╡\n",
       "│ 1            ┆ 1     ┆ 0.001         │\n",
       "│ 2            ┆ 9     ┆ 0.009         │\n",
       "│ 3            ┆ 40    ┆ 0.04          │\n",
       "│ 4            ┆ 199   ┆ 0.199         │\n",
       "│ …            ┆ …     ┆ …             │\n",
       "│ 14           ┆ 3410  ┆ 3.41          │\n",
       "│ 15           ┆ 951   ┆ 0.951         │\n",
       "│ 16           ┆ 187   ┆ 0.187         │\n",
       "│ 17           ┆ 18    ┆ 0.018         │\n",
       "└──────────────┴───────┴───────────────┘"
      ]
     },
     "execution_count": 12,
     "metadata": {},
     "output_type": "execute_result"
    }
   ],
   "source": [
    "# Average count is the average number of times a feature is selected\n",
    "# The distribution of this average follows the normal distribution, which is\n",
    "# the CLT.\n",
    "test_result"
   ]
  },
  {
   "cell_type": "code",
   "execution_count": 13,
   "metadata": {},
   "outputs": [],
   "source": [
    "import matplotlib.pyplot as plt"
   ]
  },
  {
   "cell_type": "code",
   "execution_count": 14,
   "metadata": {},
   "outputs": [
    {
     "data": {
      "text/plain": [
       "[<matplotlib.lines.Line2D at 0x2a2c428d850>]"
      ]
     },
     "execution_count": 14,
     "metadata": {},
     "output_type": "execute_result"
    },
    {
     "data": {
      "image/png": "[encoded data removed]",
      "text/plain": [
       "<Figure size 640x480 with 1 Axes>"
      ]
     },
     "metadata": {},
     "output_type": "display_data"
    }
   ],
   "source": [
    "plt.plot(test_result[\"trial_result\"], test_result['average_count'])"
   ]
  },
  {
   "cell_type": "code",
   "execution_count": null,
   "metadata": {},
   "outputs": [],
   "source": []
  },
  {
   "cell_type": "code",
   "execution_count": null,
   "metadata": {},
   "outputs": [],
   "source": []
  }
 ],
 "metadata": {
  "kernelspec": {
   "display_name": "my_py11",
   "language": "python",
   "name": "python3"
  },
  "language_info": {
   "codemirror_mode": {
    "name": "ipython",
    "version": 3
   },
   "file_extension": ".py",
   "mimetype": "text/x-python",
   "name": "python",
   "nbconvert_exporter": "python",
   "pygments_lexer": "ipython3",
   "version": "3.11.3"
  },
  "orig_nbformat": 4
 },
 "nbformat": 4,
 "nbformat_minor": 2
}
